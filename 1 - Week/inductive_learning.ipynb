{
  "cells": [
    {
      "cell_type": "markdown",
      "metadata": {
        "id": "view-in-github",
        "colab_type": "text"
      },
      "source": [
        "<a href=\"https://colab.research.google.com/github/tommylouistaylor/CEGE0004/blob/master/1%20-%20Week/inductive_learning.ipynb\" target=\"_parent\"><img src=\"https://colab.research.google.com/assets/colab-badge.svg\" alt=\"Open In Colab\"/></a>"
      ]
    },
    {
      "cell_type": "markdown",
      "source": [
        "# Inductive Learning\n",
        "\n",
        "Goal: search for **conjunctive and m-of-n rules** using a **brute-force approach**  \n",
        "\n",
        "Application: Not useful in practice because when data set dimesnions grow, computational complexity grows exponentially."
      ],
      "metadata": {
        "id": "KmCCjjNLmook"
      }
    },
    {
      "cell_type": "markdown",
      "metadata": {
        "collapsed": true,
        "pycharm": {
          "name": "#%% md\n"
        },
        "id": "d5zD6Cd3R8wb"
      },
      "source": [
        "## The Dataset\n",
        "\n",
        "Define a toy-dataset that consists of\n",
        "\n",
        "1.   list of examples ($x$s): 4 Boolean features (1=TRUE, 0=FALSE)\n",
        "2.   List of Boolean target values ($y$s)"
      ]
    },
    {
      "cell_type": "code",
      "execution_count": 2,
      "outputs": [],
      "source": [
        "xs = [[0, 0, 1, 0],\n",
        "      [0, 1, 0, 0],\n",
        "      [0, 0, 1, 1],\n",
        "      [1, 0, 0, 1],\n",
        "      [0, 1, 1, 0],\n",
        "      [1, 1, 0, 0],\n",
        "      [0, 1, 0, 1]]\n",
        "\n",
        "ys = [0, 0, 1, 1, 0, 0, 0]"
      ],
      "metadata": {
        "pycharm": {
          "name": "#%%\n"
        },
        "id": "zCfTuL-KR8wj"
      }
    },
    {
      "cell_type": "markdown",
      "source": [
        "## CONJUNCTIVE RULES TASK: \n",
        "### learn the concept $f:\\{0,1\\}^4 \\rightarrow \\{0,1\\}$ that has generated this dataset"
      ],
      "metadata": {
        "id": "q36vC79BtpdM"
      }
    },
    {
      "cell_type": "markdown",
      "source": [
        "## Learning Conjunctive Rules\n",
        "\n",
        "ML to analyse datatest for patterns in a database  by identifying frequent if-then associations; \n",
        "\n",
        "Hypothesis Space (HP):\n",
        "* conjunctive rules make up the hypothesis space\n",
        "* HP is a set of all hypotheses combinations that can be returned\n",
        "\n",
        "Conjuctive Rule Components: \n",
        "* IFS: Antecedents (the predictors) ~ an item found within the data \n",
        "* THENS: Consequent (the prediction) ~ an item found inside the combination with the antecedent\n",
        "* LINKS: logical operator 'and' (∧) links the antecendents (predictors)\n",
        "\n",
        "\n",
        "Example Conjuncive Rule:\n",
        "* Antecedents1 (a1) ∧ Antecedents3 (a3) ∧ Antecedents4 (a4) → Consequent (y^) \n",
        "* The prediction equal to the 'and' of the first, third & forth attributes.\n",
        "* Small hypotheses Space: Only 16 in $H$ from 4 literals\n",
        "* Whilst problem defined by the dataset allows for $|H|=2^{2^4}=65.536$ hypothesis.\n",
        "\n",
        "\n",
        "\n",
        "We will represent the antecedent of conjunctive rules with a list of indices. For example, to represent the rule\n",
        "above we will write:"
      ],
      "metadata": {
        "collapsed": false,
        "pycharm": {
          "name": "#%% md\n"
        },
        "id": "fX3puc4rR8wn"
      }
    },
    {
      "cell_type": "markdown",
      "source": [
        "# WORKFLOW:\n",
        "\n",
        "1) Represent antecedent(s) of conjunctive rule with a list of indices e.g. r = [0, 2, 3] "
      ],
      "metadata": {
        "id": "S7uWnYvYq5RK"
      }
    },
    {
      "cell_type": "code",
      "execution_count": 3,
      "outputs": [],
      "source": [
        "r = [0, 2, 3]"
      ],
      "metadata": {
        "pycharm": {
          "name": "#%%\n"
        },
        "id": "4EzoRbzCR8wo"
      }
    },
    {
      "cell_type": "markdown",
      "source": [
        "2) Make Conjunctive rule readable\n",
        "\n",
        "Remember that python is a zero-indexed language, that is 1 needs to be subtracted to each index above."
      ],
      "metadata": {
        "collapsed": false,
        "pycharm": {
          "name": "#%% md\n"
        },
        "id": "RSxr62ADR8wo"
      }
    },
    {
      "cell_type": "code",
      "execution_count": 5,
      "outputs": [],
      "source": [
        "def make_conjunctive_rule_readable(r):\n",
        "    if r:\n",
        "        res = ''\n",
        "        for i in r[:-1]:\n",
        "            res += 'x_' + str((i+1)) + ' ∧ '\n",
        "\n",
        "        res += 'x_' + str((r[-1]+1))\n",
        "    else:\n",
        "        res = '1'\n",
        "    res += ' -> y'\n",
        "    return res"
      ],
      "metadata": {
        "pycharm": {
          "name": "#%%\n"
        },
        "id": "PVkj8COnR8wp"
      }
    },
    {
      "cell_type": "code",
      "execution_count": null,
      "outputs": [],
      "source": [
        "make_conjunctive_rule_readable(r)"
      ],
      "metadata": {
        "pycharm": {
          "name": "#%%\n"
        },
        "id": "2yVl7wLlR8wq"
      }
    },
    {
      "cell_type": "markdown",
      "source": [
        "3) Evaluate rule on an example $x$"
      ],
      "metadata": {
        "collapsed": false,
        "pycharm": {
          "name": "#%% md\n"
        },
        "id": "4auF1ujKR8wr"
      }
    },
    {
      "cell_type": "code",
      "execution_count": 14,
      "outputs": [],
      "source": [
        "def eval_conjunctive_rule(x, r):\n",
        "    res = 1 # initialize rule with 1 (neutral number for multiplication)\n",
        "    for i in r:\n",
        "        res *= x[i] # multiply the attribute selected by r\n",
        "    return res"
      ],
      "metadata": {
        "pycharm": {
          "name": "#%%\n"
        },
        "id": "ZC9U5Wc5R8wt"
      }
    },
    {
      "cell_type": "markdown",
      "source": [
        "4) Test the evaluate function by passing the rule (r) and an example (x = [0, 1, 0, 1])"
      ],
      "metadata": {
        "collapsed": false,
        "pycharm": {
          "name": "#%% md\n"
        },
        "id": "VRMfjJglR8wu"
      }
    },
    {
      "cell_type": "code",
      "execution_count": null,
      "outputs": [],
      "source": [
        "x = [0, 1, 0, 1]\n",
        "\n",
        "eval_conjunctive_rule(x, r)"
      ],
      "metadata": {
        "pycharm": {
          "name": "#%%\n"
        },
        "id": "K3qfemUeR8wx"
      }
    },
    {
      "cell_type": "markdown",
      "source": [
        "This rule evaluated the example as False. Can you define an example that evaluates the rule as True?"
      ],
      "metadata": {
        "collapsed": false,
        "pycharm": {
          "name": "#%% md\n"
        },
        "id": "Jf80Z16jR8wx"
      }
    },
    {
      "cell_type": "markdown",
      "source": [
        "4) define the brute-force algorithm to generate all possible rules of 4 literals. Find rule that produces 0 errors on the dataset. "
      ],
      "metadata": {
        "collapsed": false,
        "pycharm": {
          "name": "#%% md\n"
        },
        "id": "1A4BfdO7R8wy"
      }
    },
    {
      "cell_type": "code",
      "execution_count": 17,
      "outputs": [],
      "source": [
        "import itertools\n",
        "\n",
        "def generate_all_conjunctive_rules(n):\n",
        "    res = []\n",
        "    for size in range(n+1):\n",
        "        for rule in itertools.combinations(range(n), size):\n",
        "            res.append(rule)\n",
        "    return res\n",
        "\n",
        "conjunctive_rules = generate_all_conjunctive_rules(4)"
      ],
      "metadata": {
        "pycharm": {
          "name": "#%%\n"
        },
        "id": "3T-dzgTER8wy"
      }
    },
    {
      "cell_type": "markdown",
      "source": [
        "5) Output list of every combination of those rules"
      ],
      "metadata": {
        "collapsed": false,
        "pycharm": {
          "name": "#%% md\n"
        },
        "id": "CCBWLe-aR8wz"
      }
    },
    {
      "cell_type": "code",
      "execution_count": null,
      "outputs": [],
      "source": [
        "for rule in conjunctive_rules:\n",
        "    print(make_conjunctive_rule_readable(rule))"
      ],
      "metadata": {
        "pycharm": {
          "name": "#%%\n"
        },
        "id": "9yGiW8T7R8wz"
      }
    },
    {
      "cell_type": "markdown",
      "source": [
        "6) We now want to find the rule that produces 0 errors on the dataset. To do this we define the `count_mistakes` function which takes as input the list of predictions generated by a rule `hat_ys`, and the list of target values of the dataset `ys`."
      ],
      "metadata": {
        "collapsed": false,
        "pycharm": {
          "name": "#%% md\n"
        },
        "id": "ktWgVP40R8wz"
      }
    },
    {
      "cell_type": "code",
      "execution_count": 18,
      "outputs": [],
      "source": [
        "def count_mistakes(hat_ys, ys):\n",
        "    res = 0\n",
        "    for i in range(len(hat_ys)):\n",
        "        if hat_ys[i] != ys[i]:\n",
        "            res += 1\n",
        "    return res"
      ],
      "metadata": {
        "pycharm": {
          "name": "#%%\n"
        },
        "id": "ID4rg6W2R8w0"
      }
    },
    {
      "cell_type": "markdown",
      "source": [
        "7) We now write a searching algorithm that iterates over all the possible rules and counts the number of mistakes each rule makes on the dataset."
      ],
      "metadata": {
        "collapsed": false,
        "pycharm": {
          "name": "#%% md\n"
        },
        "id": "CtjYzqpPR8w0"
      }
    },
    {
      "cell_type": "code",
      "execution_count": 19,
      "outputs": [
        {
          "output_type": "stream",
          "name": "stdout",
          "text": [
            "The rule 1 -> y has generated 5 mistakes\n",
            "The rule x_1 -> y has generated 2 mistakes\n",
            "The rule x_2 -> y has generated 6 mistakes\n",
            "The rule x_3 -> y has generated 3 mistakes\n",
            "The rule x_4 -> y has generated 1 mistakes\n",
            "The rule x_1 ∧ x_2 -> y has generated 3 mistakes\n",
            "The rule x_1 ∧ x_3 -> y has generated 2 mistakes\n",
            "The rule x_1 ∧ x_4 -> y has generated 1 mistakes\n",
            "The rule x_2 ∧ x_3 -> y has generated 3 mistakes\n",
            "The rule x_2 ∧ x_4 -> y has generated 3 mistakes\n",
            "The rule x_3 ∧ x_4 -> y has generated 1 mistakes\n",
            "The rule x_1 ∧ x_2 ∧ x_3 -> y has generated 2 mistakes\n",
            "The rule x_1 ∧ x_2 ∧ x_4 -> y has generated 2 mistakes\n",
            "The rule x_1 ∧ x_3 ∧ x_4 -> y has generated 2 mistakes\n",
            "The rule x_2 ∧ x_3 ∧ x_4 -> y has generated 2 mistakes\n",
            "The rule x_1 ∧ x_2 ∧ x_3 ∧ x_4 -> y has generated 2 mistakes\n"
          ]
        }
      ],
      "source": [
        "for rule in conjunctive_rules:\n",
        "    hat_ys = []\n",
        "    for x in xs:\n",
        "        hat_ys.append(eval_conjunctive_rule(x, rule))\n",
        "\n",
        "    mistakes = count_mistakes(hat_ys, ys)\n",
        "    print('The rule', make_conjunctive_rule_readable(rule), 'has generated', mistakes, 'mistakes')"
      ],
      "metadata": {
        "pycharm": {
          "name": "#%%\n"
        },
        "id": "p0DChcsIR8w1",
        "outputId": "b046c2d5-05c0-49d9-fbdd-417bab6156d0",
        "colab": {
          "base_uri": "https://localhost:8080/"
        }
      }
    },
    {
      "cell_type": "markdown",
      "source": [
        "## CONCLUSION: Based on this result we can state that, since no rule generated 0 errors, the concept we want to learn does not belong to the hypothesis space defined by conjunctive rules."
      ],
      "metadata": {
        "id": "vig1XQFms2_4"
      }
    },
    {
      "cell_type": "markdown",
      "source": [
        "## M-of-N Rules\n",
        "\n",
        "We now choose as hypothesis space the m-of-n rules. An m-of-n rule consists of a body containing a set of $n$ literals\n",
        "and a positive integer $m$. This rule is true iff $m$ of the literals are true. For example:\n",
        "\n",
        "$\\text{2-of-}\\{x_1, x_2, x_3\\} \\rightarrow \\hat{y}$\n",
        "\n",
        "This rule is true only if at least two of the literals among $x_1$, $x_2$, and $x_3$ are true.\n",
        "\n",
        "Note that one can prove that the hypothesis space of conjunctive rules is contained in the hypothesis space of\n",
        "m-of-n rules.\n",
        "\n",
        "Let's first define two helper methods:\n",
        "1. `make_m_of_n_rule_readable` to make a m-of-n rule readable.\n",
        "1. `eval_m_of_n_rule` to evaluate a m-of-n rule given an example $x$.\n",
        "\n",
        "We will represent the body of the rule with a list containing $m$ and a list of $n$ indices. For example,\n",
        "to represent the rule above we will write:"
      ],
      "metadata": {
        "collapsed": false,
        "pycharm": {
          "name": "#%% md\n"
        },
        "id": "JKgfdmidR8w1"
      }
    },
    {
      "cell_type": "code",
      "execution_count": null,
      "outputs": [],
      "source": [
        "r = [2, [0, 1, 2]]"
      ],
      "metadata": {
        "pycharm": {
          "name": "#%%\n"
        },
        "id": "soD0j2azR8w1"
      }
    },
    {
      "cell_type": "markdown",
      "source": [
        "The following function will make this rule readable."
      ],
      "metadata": {
        "collapsed": false,
        "pycharm": {
          "name": "#%% md\n"
        },
        "id": "7MxrUPizR8w1"
      }
    },
    {
      "cell_type": "code",
      "execution_count": null,
      "outputs": [],
      "source": [
        "def make_m_of_n_rule_readable(r):\n",
        "    m, variables = r\n",
        "    res = str(m) + '-of-{'\n",
        "    for i in variables[:-1]:\n",
        "        res += 'x_' + str(i+1) + ', '\n",
        "    res += 'x_' + str(variables[-1]+1) + '}'\n",
        "    res += ' -> y'\n",
        "    return res"
      ],
      "metadata": {
        "pycharm": {
          "name": "#%%\n"
        },
        "id": "7Xxn6XEcR8w2"
      }
    },
    {
      "cell_type": "code",
      "execution_count": null,
      "outputs": [],
      "source": [
        "make_m_of_n_rule_readable(r)"
      ],
      "metadata": {
        "pycharm": {
          "name": "#%%\n"
        },
        "id": "wJIllZdNR8w2"
      }
    },
    {
      "cell_type": "markdown",
      "source": [
        "The following function will evaluate the rule on an example."
      ],
      "metadata": {
        "collapsed": false,
        "pycharm": {
          "name": "#%% md\n"
        },
        "id": "bNV9R5CVR8w2"
      }
    },
    {
      "cell_type": "code",
      "execution_count": null,
      "outputs": [],
      "source": [
        "def eval_m_of_n_rule(x, r):\n",
        "    count = 0 # initialize rule with 0 (neutral number for summation)\n",
        "    m, variables = r\n",
        "    for i in variables:\n",
        "        count += x[i] # count how many variables match\n",
        "    if count >= m:\n",
        "        return 1\n",
        "    return 0"
      ],
      "metadata": {
        "pycharm": {
          "name": "#%%\n"
        },
        "id": "JAKHANBFR8w2"
      }
    },
    {
      "cell_type": "markdown",
      "source": [
        "To test this function let's first define an example, then test it on the rule above."
      ],
      "metadata": {
        "collapsed": false,
        "pycharm": {
          "name": "#%% md\n"
        },
        "id": "kil4QlWOR8w3"
      }
    },
    {
      "cell_type": "code",
      "execution_count": null,
      "outputs": [],
      "source": [
        "x = [0, 1, 1, 1]\n",
        "\n",
        "eval_m_of_n_rule(x, r)"
      ],
      "metadata": {
        "pycharm": {
          "name": "#%%\n"
        },
        "id": "4tZZKWAHR8w3"
      }
    },
    {
      "cell_type": "markdown",
      "source": [
        "This rule evaluated the example as True. Can you define an example that evaluates the rule as False?\n",
        "\n",
        "We now define the brute-force algorithm to generate all possible m-of-n rules for 4 literals."
      ],
      "metadata": {
        "collapsed": false,
        "pycharm": {
          "name": "#%% md\n"
        },
        "id": "26kYaDFyR8w3"
      }
    },
    {
      "cell_type": "code",
      "execution_count": null,
      "outputs": [],
      "source": [
        "def generate_all_m_of_n_rules(n):\n",
        "    res = []\n",
        "    for size in range(n+1):\n",
        "        for variables in itertools.combinations(range(n), size):\n",
        "            for m in range(len(variables)):\n",
        "                res.append((m + 1, variables))\n",
        "    return res\n",
        "\n",
        "m_of_n_rules = generate_all_m_of_n_rules(4)"
      ],
      "metadata": {
        "pycharm": {
          "name": "#%%\n"
        },
        "id": "jtbaYUzbR8w3"
      }
    },
    {
      "cell_type": "markdown",
      "source": [
        "Let's now have a look at those rules."
      ],
      "metadata": {
        "collapsed": false,
        "id": "DsPNIly6R8w3"
      }
    },
    {
      "cell_type": "code",
      "execution_count": null,
      "outputs": [],
      "source": [
        "for rule in m_of_n_rules:\n",
        "    print(make_m_of_n_rule_readable(rule))"
      ],
      "metadata": {
        "pycharm": {
          "name": "#%%\n"
        },
        "id": "6Vu1QD4_R8w3"
      }
    },
    {
      "cell_type": "markdown",
      "source": [
        "These are all possible m-of-n rules one can come up with.\n",
        "\n",
        "At this point we want to find the rule that produces 0 errors on the dataset. To do this we will reuse the\n",
        "`count_mistakes` function defined above.\n",
        "We now write a searching algorithm that iterates over all the possible rules and counts the number of mistakes each rule\n",
        "makes on the dataset."
      ],
      "metadata": {
        "collapsed": false,
        "pycharm": {
          "name": "#%% md\n"
        },
        "id": "bkH-n95dR8w4"
      }
    },
    {
      "cell_type": "code",
      "execution_count": null,
      "outputs": [],
      "source": [
        "for r in m_of_n_rules:\n",
        "    hat_ys = []\n",
        "    for x in xs:\n",
        "        hat_ys.append(eval_m_of_n_rule(x, r))\n",
        "\n",
        "    mistakes = count_mistakes(hat_ys, ys)\n",
        "    print('The rule', make_m_of_n_rule_readable(r), 'has generated', mistakes, 'mistakes')"
      ],
      "metadata": {
        "pycharm": {
          "name": "#%%\n"
        },
        "id": "F_z-UiFvR8w4"
      }
    },
    {
      "cell_type": "markdown",
      "source": [
        "In this case we have found that one of the rules has generated 0 mistakes:\n",
        "\n",
        "$\\text{2-of-}\\{x_1, x_3, x_4\\} \\rightarrow y$\n",
        "\n",
        "Can you now say that this is the rule that generated the training set, the concept we wanted to learn?\n",
        "\n",
        "Can you add an example in the dataset that makes also m-of-n rules fail?\n",
        "Make sure to not repeat an instance of the dataset with a different target value."
      ],
      "metadata": {
        "collapsed": false,
        "pycharm": {
          "name": "#%% md\n"
        },
        "id": "udv84bWmR8w4"
      }
    }
  ],
  "metadata": {
    "kernelspec": {
      "display_name": "Python 3",
      "language": "python",
      "name": "python3"
    },
    "language_info": {
      "codemirror_mode": {
        "name": "ipython",
        "version": 2
      },
      "file_extension": ".py",
      "mimetype": "text/x-python",
      "name": "python",
      "nbconvert_exporter": "python",
      "pygments_lexer": "ipython2",
      "version": "2.7.6"
    },
    "colab": {
      "name": "inductive_learning.ipynb",
      "provenance": [],
      "include_colab_link": true
    }
  },
  "nbformat": 4,
  "nbformat_minor": 0
}